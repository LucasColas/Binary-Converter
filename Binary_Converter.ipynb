{
  "nbformat": 4,
  "nbformat_minor": 0,
  "metadata": {
    "colab": {
      "name": "Binary Converter.ipynb",
      "provenance": [],
      "authorship_tag": "ABX9TyN+yQ0mfSmQ/01J0jmewG1h",
      "include_colab_link": true
    },
    "kernelspec": {
      "name": "python3",
      "display_name": "Python 3"
    },
    "language_info": {
      "name": "python"
    }
  },
  "cells": [
    {
      "cell_type": "markdown",
      "metadata": {
        "id": "view-in-github",
        "colab_type": "text"
      },
      "source": [
        "<a href=\"https://colab.research.google.com/github/LucasColas/Binary-Converter/blob/main/Binary_Converter.ipynb\" target=\"_parent\"><img src=\"https://colab.research.google.com/assets/colab-badge.svg\" alt=\"Open In Colab\"/></a>"
      ]
    },
    {
      "cell_type": "code",
      "metadata": {
        "colab": {
          "base_uri": "https://localhost:8080/"
        },
        "id": "TRXX5cqI1-aM",
        "outputId": "e6ebec4c-eeb2-4b6c-b652-dfb686f9fd85"
      },
      "source": [
        "class Converter():\n",
        "  def __init__(self):\n",
        "    self.n = self.get_a_number()\n",
        "\n",
        "  def get_a_number(self): #a method to get a number\n",
        "    n = input(\"Enter a number : \")\n",
        "    good_number = False\n",
        "    while not good_number:\n",
        "      try:\n",
        "        n = int(n)\n",
        "        good_number = True\n",
        "\n",
        "      except ValueError:\n",
        "        print(\"That's not a number...\")\n",
        "        n = input(\"Enter a number : \")\n",
        "\n",
        "    #print(n)\n",
        "\n",
        "  def breakdown(self, number):\n",
        "    Figures_list = [i for i in range(2,10)]\n",
        "    num_breakdown = []\n",
        "    while number >= 0:\n",
        "      num_breakdown.append(number%10)\n",
        "      number //= 10\n",
        "\n",
        "    for n in num_breakdown:\n",
        "      if n in Figures_list:\n",
        "        return True \n",
        "\n",
        "\n",
        "\n",
        "  def select_base(self):\n",
        "    base = input(\"Enter 2 if it's a binary number or enter 10 if it's a decimal number : \")\n",
        "    good_base = False\n",
        "    good_conversion = False\n",
        "\n",
        "    while not good_base:\n",
        "      try:\n",
        "        base = int(input)\n",
        "        good_conversion = True\n",
        "\n",
        "      except ValueError:\n",
        "        print(\"That's not a number...\")\n",
        "\n",
        "        base = input(\"Enter a number : \")\n",
        "\n",
        "      if good_conversion and base == 2 and self.breakdown(self.n):\n",
        "        base = input(\"That's not the good base\")\n",
        "\n",
        "\n",
        "\n",
        "  \n",
        "\n",
        "Convert = Converter()\n",
        "\n",
        "\n",
        "\n",
        "    "
      ],
      "execution_count": null,
      "outputs": [
        {
          "output_type": "stream",
          "name": "stdout",
          "text": [
            "Enter a number : fjgg\n",
            "That's not a number...\n",
            "Enter a number : 34\n",
            "34\n"
          ]
        }
      ]
    }
  ]
}